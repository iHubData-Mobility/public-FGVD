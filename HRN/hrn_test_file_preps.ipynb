{
 "cells": [
  {
   "cell_type": "code",
   "execution_count": 1,
   "id": "468d1773",
   "metadata": {},
   "outputs": [
    {
     "data": {
      "text/html": [
       "<div>\n",
       "<style scoped>\n",
       "    .dataframe tbody tr th:only-of-type {\n",
       "        vertical-align: middle;\n",
       "    }\n",
       "\n",
       "    .dataframe tbody tr th {\n",
       "        vertical-align: top;\n",
       "    }\n",
       "\n",
       "    .dataframe thead th {\n",
       "        text-align: right;\n",
       "    }\n",
       "</style>\n",
       "<table border=\"1\" class=\"dataframe\">\n",
       "  <thead>\n",
       "    <tr style=\"text-align: right;\">\n",
       "      <th></th>\n",
       "      <th>0</th>\n",
       "      <th>1</th>\n",
       "    </tr>\n",
       "  </thead>\n",
       "  <tbody>\n",
       "    <tr>\n",
       "      <th>0</th>\n",
       "      <td>4810_00000.png</td>\n",
       "      <td>motorcycle_HeroHonda_CBZ</td>\n",
       "    </tr>\n",
       "    <tr>\n",
       "      <th>1</th>\n",
       "      <td>4810_00001.png</td>\n",
       "      <td>car_MarutiSuzuki_Swift</td>\n",
       "    </tr>\n",
       "    <tr>\n",
       "      <th>2</th>\n",
       "      <td>4810_00002.png</td>\n",
       "      <td>motorcycle_Hero_Splendor</td>\n",
       "    </tr>\n",
       "    <tr>\n",
       "      <th>3</th>\n",
       "      <td>4810_00003.png</td>\n",
       "      <td>scooter_Honda_Activa</td>\n",
       "    </tr>\n",
       "    <tr>\n",
       "      <th>4</th>\n",
       "      <td>4810_00004.png</td>\n",
       "      <td>motorcycle_RoyalEnfield_Classic350</td>\n",
       "    </tr>\n",
       "    <tr>\n",
       "      <th>...</th>\n",
       "      <td>...</td>\n",
       "      <td>...</td>\n",
       "    </tr>\n",
       "    <tr>\n",
       "      <th>4886</th>\n",
       "      <td>6012_04886.png</td>\n",
       "      <td>motorcycle_Hero_Passion</td>\n",
       "    </tr>\n",
       "    <tr>\n",
       "      <th>4887</th>\n",
       "      <td>6012_04887.png</td>\n",
       "      <td>car_MarutiSuzuki_Ritz</td>\n",
       "    </tr>\n",
       "    <tr>\n",
       "      <th>4888</th>\n",
       "      <td>6012_04888.png</td>\n",
       "      <td>scooter_Suzuki_Access</td>\n",
       "    </tr>\n",
       "    <tr>\n",
       "      <th>4889</th>\n",
       "      <td>6012_04889.png</td>\n",
       "      <td>car_Honda_Amaze</td>\n",
       "    </tr>\n",
       "    <tr>\n",
       "      <th>4890</th>\n",
       "      <td>6012_04890.png</td>\n",
       "      <td>truck_Mahindra_Mahindra</td>\n",
       "    </tr>\n",
       "  </tbody>\n",
       "</table>\n",
       "<p>4891 rows × 2 columns</p>\n",
       "</div>"
      ],
      "text/plain": [
       "                   0                                   1\n",
       "0     4810_00000.png            motorcycle_HeroHonda_CBZ\n",
       "1     4810_00001.png              car_MarutiSuzuki_Swift\n",
       "2     4810_00002.png            motorcycle_Hero_Splendor\n",
       "3     4810_00003.png                scooter_Honda_Activa\n",
       "4     4810_00004.png  motorcycle_RoyalEnfield_Classic350\n",
       "...              ...                                 ...\n",
       "4886  6012_04886.png             motorcycle_Hero_Passion\n",
       "4887  6012_04887.png               car_MarutiSuzuki_Ritz\n",
       "4888  6012_04888.png               scooter_Suzuki_Access\n",
       "4889  6012_04889.png                     car_Honda_Amaze\n",
       "4890  6012_04890.png             truck_Mahindra_Mahindra\n",
       "\n",
       "[4891 rows x 2 columns]"
      ]
     },
     "execution_count": 1,
     "metadata": {},
     "output_type": "execute_result"
    }
   ],
   "source": [
    "import pandas as pd\n",
    "pd.read_csv(\"./cropped/test_list.txt\",sep='\\t',header=None)"
   ]
  },
  {
   "cell_type": "code",
   "execution_count": 2,
   "id": "2637b485",
   "metadata": {},
   "outputs": [],
   "source": [
    "pdf = pd.read_csv(\"/scratch/prafful/test_dumps_orig_list.txt\",sep='\\t',header=None)\n",
    "imnames = pdf[0].to_list()\n",
    "pd.DataFrame({0:imnames,1:['car_MarutiSuzuki_Swift']*len(imnames)}).to_csv('/scratch/prafful/test_dumps_orig_list2.txt',header=False,index=False,sep='\\t')\n"
   ]
  },
  {
   "cell_type": "code",
   "execution_count": 3,
   "id": "ccbfdd92",
   "metadata": {},
   "outputs": [],
   "source": [
    "imnums = [int(imi.split('_')[-1][:-4]) for imi in imnames]\n",
    "import numpy as np\n",
    "\n",
    "pd.DataFrame({0:list(np.array(imnames)[np.argsort(imnums)]),1:['car_MarutiSuzuki_Swift']*len(imnames)}).to_csv('/scratch/prafful/test_dumps_orig_list2.txt',header=False,index=False,sep='\\t')\n"
   ]
  },
  {
   "cell_type": "code",
   "execution_count": 4,
   "id": "9e5362b6",
   "metadata": {},
   "outputs": [],
   "source": [
    "import pandas as pd\n",
    "rectify_csv = \"test_dumps_orig_list2_outl2.txt\"\n",
    "pdffk = pd.read_csv(\"/home2/praffulkumar/cp_wks/yolov5/\"+rectify_csv,sep='\\t',header=None)\n",
    "fkn = [fi.split('/')[-1] for fi in list(pdffk[0])]\n",
    "# max(list(pdffk[1]))\n",
    "pd.DataFrame({0:fkn,1:list(pdffk[1]),2:list(pdffk[2])}).to_csv(\"/home2/praffulkumar/cp_wks/yolov5/\"+rectify_csv,header=False,index=False,sep='\\t')\n"
   ]
  },
  {
   "cell_type": "code",
   "execution_count": 2,
   "id": "67f872d4",
   "metadata": {},
   "outputs": [
    {
     "data": {
      "text/plain": [
       "(1, 216)"
      ]
     },
     "execution_count": 2,
     "metadata": {},
     "output_type": "execute_result"
    }
   ],
   "source": [
    "import pandas as pd\n",
    "min(list(pd.read_csv(\"/home2/praffulkumar/cp_wks/yolov5/test_dumps_list2_out.txt\",sep='\\t',header=None)[1])), max(list(pd.read_csv(\"/home2/praffulkumar/cp_wks/yolov5/test_dumps_list2_out.txt\",sep='\\t',header=None)[1]))\n"
   ]
  },
  {
   "cell_type": "code",
   "execution_count": 1,
   "id": "2f898567",
   "metadata": {},
   "outputs": [
    {
     "data": {
      "text/plain": [
       "3"
      ]
     },
     "execution_count": 1,
     "metadata": {},
     "output_type": "execute_result"
    }
   ],
   "source": [
    "import pandas as pd\n",
    "pdffk = pd.read_csv(\"/scratch/prafful/test_dumps_list2_out.txt\",sep='\\t',header=None)\n",
    "fnamespdf = list(pdffk[0])\n",
    "fnamespdf.index('mainbatchi0_imgbatchi0_predi3_3.png')"
   ]
  },
  {
   "cell_type": "code",
   "execution_count": 4,
   "id": "90301bb3",
   "metadata": {},
   "outputs": [
    {
     "data": {
      "text/plain": [
       "0.6708203932499369"
      ]
     },
     "execution_count": 4,
     "metadata": {},
     "output_type": "execute_result"
    }
   ],
   "source": [
    "import numpy as np\n",
    "np.sqrt(0.9*0.5)"
   ]
  },
  {
   "cell_type": "code",
   "execution_count": 5,
   "id": "4236dc70",
   "metadata": {},
   "outputs": [
    {
     "name": "stdout",
     "output_type": "stream",
     "text": [
      "(39650, 10) (39650,) (39650,) (4891,)\n"
     ]
    }
   ],
   "source": [
    "import pickle\n",
    "with open('/home2/praffulkumar/cp_wks/yolov5/v5l_fgd_l3_test_stats.pkl', 'rb') as file:\n",
    "    # A new file will be created\n",
    "    stats = pickle.load(file)\n",
    "\n",
    "# stats = (correct, conf, pcls, tcls)\n",
    "print(stats[0].shape, stats[1].shape, stats[2].shape, stats[3].shape )"
   ]
  },
  {
   "cell_type": "code",
   "execution_count": 6,
   "id": "fb892355",
   "metadata": {},
   "outputs": [
    {
     "data": {
      "text/plain": [
       "(0.0, 216.0, 0.0, 216.0)"
      ]
     },
     "execution_count": 6,
     "metadata": {},
     "output_type": "execute_result"
    }
   ],
   "source": [
    "import numpy as np\n",
    "np.min(stats[2]),np.max(stats[2]),np.min(stats[3]),np.max(stats[3])"
   ]
  },
  {
   "cell_type": "code",
   "execution_count": 7,
   "id": "14bdad5e",
   "metadata": {},
   "outputs": [],
   "source": [
    "import pandas as pd\n",
    "pdffk = pd.read_csv(\"../cp_wks/yolov5/test_dumps_list2_out.txt\",sep='\\t',header=None)\n",
    "l3_new_index_mapper = list(pd.read_csv(\"../cp_wks/yolov5/l3_new_index_mapper.csv\")['l3_new_index'])\n",
    "fnamespdf = list(pdffk[0])\n",
    "l3_class_indexes = {'autorickshaw_Atul_Atul': 1, 'autorickshaw_autorickshaw_autorickshaw': 2, 'autorickshaw_Bajaj_Bajaj': 3, 'autorickshaw_Mahindra_Mahindra': 4, 'autorickshaw_Piaggio_Piaggio': 5, 'autorickshaw_TVS_TVS': 6, 'bus_bus_bus': 7, 'car_Audi_A3': 8, 'car_Audi_Q3': 9, 'car_Bmw_2-Series-220d': 10, 'car_Bmw_3-Series': 11, 'car_Bmw_X1': 12, 'car_car_car': 13, 'car_Chevrolet_Aveo': 14, 'car_Chevrolet_Beat': 15, 'car_Chevrolet_Cruze': 16, 'car_Chevrolet_Enjoy': 17, 'car_Chevrolet_Spark': 18, 'car_Chevrolet_Tavera': 19, 'car_Fiat_Linea': 20, 'car_Fiat_PuntoEvo': 21, 'car_Force_TraxToofan': 22, 'car_Ford_Aspire': 23, 'car_Ford_Ecosport': 24, 'car_Ford_EcoSportTitanium': 25, 'car_Ford_Everest': 26, 'car_Ford_Fiesta': 27, 'car_Ford_Figo': 28, 'car_Ford_Ikon': 29, 'car_Hindustan_Ambassador': 30, 'car_Honda_Accord': 31, 'car_Honda_Amaze': 32, 'car_Honda_Brio': 33, 'car_Honda_Brv': 34, 'car_Honda_City': 35, 'car_Honda_Civic': 36, 'car_Honda_Cr-V': 37, 'car_Honda_Jazz': 38, 'car_Honda_Wr-V': 39, 'car_Hyundai_Accent': 40, 'car_Hyundai_Aura': 41, 'car_Hyundai_Creta': 42, 'car_Hyundai_Eon': 43, 'car_Hyundai_I10': 44, 'car_Hyundai_I20': 45, 'car_Hyundai_Santro': 46, 'car_Hyundai_Verna': 47, 'car_Hyundai_Xcent': 48, 'car_Jeep_Compass': 49, 'car_Jeep_Wrangler': 50, 'car_Mahindra_Bolero': 51, 'car_Mahindra_Reva': 52, 'car_Mahindra_Scorpio': 53, 'car_Mahindra_TUV300': 54, 'car_Mahindra_Verito': 55, 'car_Mahindra_XUV500': 56, 'car_Mahindra_Xylo': 57, 'car_MarutiSuzuki_1000': 58, 'car_MarutiSuzuki_Alto800': 59, 'car_MarutiSuzuki_AltoK10': 60, 'car_MarutiSuzuki_Baleno': 61, 'car_MarutiSuzuki_Celerio': 62, 'car_MarutiSuzuki_Ciaz': 63, 'car_MarutiSuzuki_Dzire': 64, 'car_MarutiSuzuki_Eeco': 65, 'car_MarutiSuzuki_Ertiga': 66, 'car_MarutiSuzuki_Esteem2000': 67, 'car_MarutiSuzuki_Ignis': 68, 'car_MarutiSuzuki_Omni': 69, 'car_MarutiSuzuki_Ritz': 70, 'car_MarutiSuzuki_S-Cross': 71, 'car_MarutiSuzuki_Swift': 72, 'car_MarutiSuzuki_SX4': 73, 'car_MarutiSuzuki_VitaraBrezza': 74, 'car_MarutiSuzuki_WagonR': 75, 'car_MarutiSuzuki_Zen': 76, 'car_Mercedes-Benz_A-Class': 77, 'car_Mercedes-Benz_AmgGt4-DoorCoupe': 78, 'car_Mercedes-Benz_C-Class': 79, 'car_Mercedes-Benz_E-Class': 80, 'car_Mercedes-Benz_G-Class': 81, 'car_Mercedes-Benz_Gla-Class': 82, 'car_Mercedes-Benz_Gls': 83, 'car_Mercedes-Benz_S-Class': 84, 'car_Mitsubishi_Lancer': 85, 'car_Nissan_Micra': 86, 'car_Nissan_Sunny': 87, 'car_Nissan_Terrano': 88, 'car_Renault_Duster': 89, 'car_Renault_Kwid': 90, 'car_Renault_Lodgy': 91, 'car_Renault_Logan': 92, 'car_Renault_Scala': 93, 'car_Skoda_Fabia': 94, 'car_Skoda_Octavia': 95, 'car_Skoda_Rapid': 96, 'car_Skoda_Superb': 97, 'car_TataMotors_Hexa': 98, 'car_TataMotors_Indica': 99, 'car_TataMotors_Indigo': 100,'car_TataMotors_Nano': 101, 'car_TataMotors_Nexon': 102, 'car_TataMotors_Safari': 103, 'car_TataMotors_Sumo': 104, 'car_TataMotors_Tiago': 105, 'car_TataMotors_Tigor': 106, 'car_TataMotors_Zest': 107, 'car_Toyota_Corolla': 108, 'car_Toyota_Etios': 109, 'car_Toyota_EtiosLiva': 110, 'car_Toyota_Fortuner': 111, 'car_Toyota_Innova': 112, 'car_Toyota_Qualis': 113, 'car_Volkswagen_Ameo': 114, 'car_Volkswagen_Jetta': 115, 'car_Volkswagen_Polo': 116, 'car_Volkswagen_Vento': 117, 'car_Volvo_Xc40': 118, 'car_Volvo_Xc60': 119, 'mini-bus_mini-bus_mini-bus': 120, 'motorcycle_Bajaj_Avenger': 121, 'motorcycle_Bajaj_CT100': 122, 'motorcycle_Bajaj_Discover': 123, 'motorcycle_Bajaj_Discover100': 124, 'motorcycle_Bajaj_Discover110': 125, 'motorcycle_Bajaj_Discover125': 126, 'motorcycle_Bajaj_Discover135': 127, 'motorcycle_Bajaj_Platina': 128, 'motorcycle_Bajaj_Pulsar150': 129, 'motorcycle_Bajaj_Pulsar180': 130, 'motorcycle_Bajaj_Pulsar200': 131, 'motorcycle_Bajaj_Pulsar220F': 132, 'motorcycle_Bajaj_PulsarNS200': 133, 'motorcycle_Bajaj_PulsarRS200': 134, 'motorcycle_Bajaj_V12': 135, 'motorcycle_Bajaj_V15': 136, 'motorcycle_Hero_Glamour': 137, 'motorcycle_Hero_HFDeluxe': 138, 'motorcycle_Hero_Hunk': 139, 'motorcycle_Hero_Passion': 140, 'motorcycle_Hero_PassionPlus': 141, 'motorcycle_Hero_PassionPro': 142, 'motorcycle_Hero_Splendor': 143, 'motorcycle_Hero_SuperSplendor': 144, 'motorcycle_Hero_XPulse200': 145, 'motorcycle_HeroHonda_CBZ': 146, 'motorcycle_HeroHonda_SplendorNXG': 147, 'motorcycle_Honda_CBHornet160R': 148, 'motorcycle_Honda_CBTwister': 149, 'motorcycle_Honda_Karizma': 150, 'motorcycle_Honda_KarizmaZMR': 151, 'motorcycle_Honda_Shine': 152, 'motorcycle_Honda_SP125': 153, 'motorcycle_Honda_StunnerCBF': 154, 'motorcycle_Honda_Unicorn': 155, 'motorcycle_KTM_Duke': 156, 'motorcycle_Mahindra_Centuro': 157, 'motorcycle_motorcycle_motorcycle': 158, 'motorcycle_RoyalEnfield_Bullet350': 159, 'motorcycle_RoyalEnfield_Bullet500': 160, 'motorcycle_RoyalEnfield_Classic350': 161, 'motorcycle_RoyalEnfield_Classic500': 162, 'motorcycle_RoyalEnfield_ContinentalGT650': 163, 'motorcycle_RoyalEnfield_Interceptor650': 164, 'motorcycle_RoyalEnfield_Meteor350': 165, 'motorcycle_RoyalEnfield_Thunderbird350': 166, 'motorcycle_RoyalEnfield_Thunderbird350X': 167, 'motorcycle_Suzuki_Gixxer': 168, 'motorcycle_Suzuki_Samurai': 169, 'motorcycle_Suzuki_Slingshot': 170, 'motorcycle_TVS_ApacheRR310': 171, 'motorcycle_TVS_ApacheRTR160': 172, 'motorcycle_TVS_ApacheRTR200': 173, 'motorcycle_TVS_Excel100': 174, 'motorcycle_TVS_ExcelHeavyDuty': 175, 'motorcycle_TVS_Sport': 176, 'motorcycle_TVS_StarCityPlus': 177, 'motorcycle_TVS_Victor': 178, 'motorcycle_TVS_XL100': 179, 'motorcycle_Yamaha_Crux': 180, 'motorcycle_Yamaha_Fazer': 181, 'motorcycle_Yamaha_FZ25': 182, 'motorcycle_Yamaha_FZS-FI': 183, 'motorcycle_Yamaha_FZ-V3': 184, 'motorcycle_Yamaha_Libero': 185, 'motorcycle_Yamaha_R15': 186, 'motorcycle_Yamaha_RX100': 187, 'scooter_Bajaj_Chetak': 188, 'scooter_Hero_Duet': 189, 'scooter_Hero_Maestro': 190, 'scooter_Hero_Pleasure': 191, 'scooter_Honda_Activa': 192, 'scooter_Honda_Aviator': 193, 'scooter_Honda_Dio': 194, 'scooter_Honda_Grazia': 195, 'scooter_Mahindra_Gusto': 196, 'scooter_scooter_scooter': 197, 'scooter_Suzuki_Access': 198, 'scooter_Suzuki_Burgman': 199, 'scooter_Suzuki_Swish': 200, 'scooter_TVS_Jupiter': 201, 'scooter_TVS_Ntorq': 202, 'scooter_TVS_Pep': 203, 'scooter_TVS_Streak': 204,'scooter_TVS_Wego': 205, 'scooter_TVS_Zest': 206, 'scooter_Vespa_VXL125': 207, 'scooter_Vespa_ZX125': 208, 'scooter_Yamaha_Fascino125': 209, 'scooter_Yamaha_RayZR': 210, 'truck_AshokLeyland_AshokLeyland': 211, 'truck_BharatBenz_BharatBenz': 212, 'truck_Eicher_Eicher': 213, 'truck_Mahindra_Mahindra': 214, 'truck_SML_SML': 215, 'truck_Tata_Tata': 216, 'truck_truck_truck': 217}\n",
    "l3_class_indexes_names = list(l3_class_indexes.keys())\n",
    "\n",
    "# fnamespdf.index(\"mainbatchi\"+str(batch_i)+\"_imgbatchi\"+str(si)+\"_predi\"+str(pis)+\"_\"+str(ijk)+\".png\")"
   ]
  },
  {
   "cell_type": "code",
   "execution_count": 17,
   "id": "5acb4b2b",
   "metadata": {},
   "outputs": [
    {
     "data": {
      "text/plain": [
       "(39552, 39552)"
      ]
     },
     "execution_count": 17,
     "metadata": {},
     "output_type": "execute_result"
    }
   ],
   "source": [
    "len(list(set(['_'.join(fis.split('_')[:3]) for fis in fnamespdf]))), len(fnamespdf)\n",
    "# 'mainbatchi0_imgbatchi0_predi0' in fnamespdf"
   ]
  },
  {
   "cell_type": "code",
   "execution_count": null,
   "id": "e0a0e1ee",
   "metadata": {},
   "outputs": [],
   "source": [
    "from pathlib import Path\n",
    "from utils.metrics import ConfusionMatrix, ap_per_class, box_iou\n",
    "## eval using stats variable first then proceed to next cell\n",
    "###### Run this for final output\n",
    "save_dir=Path('')\n",
    "plots=False\n",
    "l3_names_dict = {}\n",
    "for li, ci in enumerate(l3_class_indexes_names):\n",
    "    l3_names_dict[li] = ci\n",
    "tp, fp, p, r, f1, ap, ap_class = ap_per_class(*stats, plot=plots, save_dir=save_dir, names=l3_names_dict)\n",
    "p.mean(), r.mean(), ap[:, 0].mean()\n",
    "\n",
    "# f-score wala best i ka value: 461 out of  1000\n",
    "# (0.014658523305032133, 0.8166648909026482, 0.3274881928637568)"
   ]
  },
  {
   "cell_type": "code",
   "execution_count": 22,
   "id": "43b12fa7",
   "metadata": {},
   "outputs": [
    {
     "data": {
      "text/plain": [
       "(1, 216, 117, 39552)"
      ]
     },
     "execution_count": 22,
     "metadata": {},
     "output_type": "execute_result"
    }
   ],
   "source": [
    "### why HRN output does not contain 0 as l3 label???\n",
    "pdffk[1].min(),pdffk[1].max(),len(pdffk[1].unique()),len(list(set(fnamespdf)))"
   ]
  },
  {
   "cell_type": "code",
   "execution_count": null,
   "id": "96a99239",
   "metadata": {},
   "outputs": [],
   "source": [
    "### evaluate mAP here with pickel file"
   ]
  }
 ],
 "metadata": {
  "kernelspec": {
   "display_name": "Python 3 (ipykernel)",
   "language": "python",
   "name": "python3"
  },
  "language_info": {
   "codemirror_mode": {
    "name": "ipython",
    "version": 3
   },
   "file_extension": ".py",
   "mimetype": "text/x-python",
   "name": "python",
   "nbconvert_exporter": "python",
   "pygments_lexer": "ipython3",
   "version": "3.10.6"
  }
 },
 "nbformat": 4,
 "nbformat_minor": 5
}
